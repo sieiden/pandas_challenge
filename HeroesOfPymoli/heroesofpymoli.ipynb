{
 "cells": [
  {
   "cell_type": "code",
   "execution_count": 227,
   "metadata": {},
   "outputs": [
    {
     "data": {
      "text/html": [
       "<div>\n",
       "<style scoped>\n",
       "    .dataframe tbody tr th:only-of-type {\n",
       "        vertical-align: middle;\n",
       "    }\n",
       "\n",
       "    .dataframe tbody tr th {\n",
       "        vertical-align: top;\n",
       "    }\n",
       "\n",
       "    .dataframe thead th {\n",
       "        text-align: right;\n",
       "    }\n",
       "</style>\n",
       "<table border=\"1\" class=\"dataframe\">\n",
       "  <thead>\n",
       "    <tr style=\"text-align: right;\">\n",
       "      <th></th>\n",
       "      <th>Purchase ID</th>\n",
       "      <th>SN</th>\n",
       "      <th>Age</th>\n",
       "      <th>Gender</th>\n",
       "      <th>Item ID</th>\n",
       "      <th>Item Name</th>\n",
       "      <th>Price</th>\n",
       "    </tr>\n",
       "  </thead>\n",
       "  <tbody>\n",
       "    <tr>\n",
       "      <th>0</th>\n",
       "      <td>0</td>\n",
       "      <td>Lisim78</td>\n",
       "      <td>20</td>\n",
       "      <td>Male</td>\n",
       "      <td>108</td>\n",
       "      <td>Extraction, Quickblade Of Trembling Hands</td>\n",
       "      <td>3.53</td>\n",
       "    </tr>\n",
       "    <tr>\n",
       "      <th>1</th>\n",
       "      <td>1</td>\n",
       "      <td>Lisovynya38</td>\n",
       "      <td>40</td>\n",
       "      <td>Male</td>\n",
       "      <td>143</td>\n",
       "      <td>Frenzied Scimitar</td>\n",
       "      <td>1.56</td>\n",
       "    </tr>\n",
       "    <tr>\n",
       "      <th>2</th>\n",
       "      <td>2</td>\n",
       "      <td>Ithergue48</td>\n",
       "      <td>24</td>\n",
       "      <td>Male</td>\n",
       "      <td>92</td>\n",
       "      <td>Final Critic</td>\n",
       "      <td>4.88</td>\n",
       "    </tr>\n",
       "    <tr>\n",
       "      <th>3</th>\n",
       "      <td>3</td>\n",
       "      <td>Chamassasya86</td>\n",
       "      <td>24</td>\n",
       "      <td>Male</td>\n",
       "      <td>100</td>\n",
       "      <td>Blindscythe</td>\n",
       "      <td>3.27</td>\n",
       "    </tr>\n",
       "    <tr>\n",
       "      <th>4</th>\n",
       "      <td>4</td>\n",
       "      <td>Iskosia90</td>\n",
       "      <td>23</td>\n",
       "      <td>Male</td>\n",
       "      <td>131</td>\n",
       "      <td>Fury</td>\n",
       "      <td>1.44</td>\n",
       "    </tr>\n",
       "  </tbody>\n",
       "</table>\n",
       "</div>"
      ],
      "text/plain": [
       "   Purchase ID             SN  Age Gender  Item ID  \\\n",
       "0            0        Lisim78   20   Male      108   \n",
       "1            1    Lisovynya38   40   Male      143   \n",
       "2            2     Ithergue48   24   Male       92   \n",
       "3            3  Chamassasya86   24   Male      100   \n",
       "4            4      Iskosia90   23   Male      131   \n",
       "\n",
       "                                   Item Name  Price  \n",
       "0  Extraction, Quickblade Of Trembling Hands   3.53  \n",
       "1                          Frenzied Scimitar   1.56  \n",
       "2                               Final Critic   4.88  \n",
       "3                                Blindscythe   3.27  \n",
       "4                                       Fury   1.44  "
      ]
     },
     "execution_count": 227,
     "metadata": {},
     "output_type": "execute_result"
    }
   ],
   "source": [
    "#import pandas\n",
    "import pandas as pd\n",
    "\n",
    "#store file path\n",
    "file_path = \"Resources/purchase_data.csv\"\n",
    "#read csv file\n",
    "df = pd.read_csv(file_path, encoding=\"ISO-8859-1\" )\n",
    "df.head()"
   ]
  },
  {
   "cell_type": "code",
   "execution_count": 228,
   "metadata": {},
   "outputs": [
    {
     "data": {
      "text/html": [
       "<div>\n",
       "<style scoped>\n",
       "    .dataframe tbody tr th:only-of-type {\n",
       "        vertical-align: middle;\n",
       "    }\n",
       "\n",
       "    .dataframe tbody tr th {\n",
       "        vertical-align: top;\n",
       "    }\n",
       "\n",
       "    .dataframe thead th {\n",
       "        text-align: right;\n",
       "    }\n",
       "</style>\n",
       "<table border=\"1\" class=\"dataframe\">\n",
       "  <thead>\n",
       "    <tr style=\"text-align: right;\">\n",
       "      <th></th>\n",
       "      <th>Total Players</th>\n",
       "    </tr>\n",
       "  </thead>\n",
       "  <tbody>\n",
       "    <tr>\n",
       "      <th>0</th>\n",
       "      <td>576</td>\n",
       "    </tr>\n",
       "  </tbody>\n",
       "</table>\n",
       "</div>"
      ],
      "text/plain": [
       "   Total Players\n",
       "0            576"
      ]
     },
     "execution_count": 228,
     "metadata": {},
     "output_type": "execute_result"
    }
   ],
   "source": [
    "#find the total Number of Players and save to df\n",
    "total_players = [{\"Total Players\":len(df[\"SN\"].unique())}]\n",
    "total_players_df = pd.DataFrame(total_players)\n",
    "total_players_df\n"
   ]
  },
  {
   "cell_type": "code",
   "execution_count": 229,
   "metadata": {},
   "outputs": [
    {
     "data": {
      "text/html": [
       "<div>\n",
       "<style scoped>\n",
       "    .dataframe tbody tr th:only-of-type {\n",
       "        vertical-align: middle;\n",
       "    }\n",
       "\n",
       "    .dataframe tbody tr th {\n",
       "        vertical-align: top;\n",
       "    }\n",
       "\n",
       "    .dataframe thead th {\n",
       "        text-align: right;\n",
       "    }\n",
       "</style>\n",
       "<table border=\"1\" class=\"dataframe\">\n",
       "  <thead>\n",
       "    <tr style=\"text-align: right;\">\n",
       "      <th></th>\n",
       "      <th>Number of Unique Items</th>\n",
       "      <th>Average Price</th>\n",
       "      <th>Number of Purchases</th>\n",
       "      <th>Total Revenue</th>\n",
       "    </tr>\n",
       "  </thead>\n",
       "  <tbody>\n",
       "    <tr>\n",
       "      <th>0</th>\n",
       "      <td>179</td>\n",
       "      <td>3.050987</td>\n",
       "      <td>780</td>\n",
       "      <td>2379.77</td>\n",
       "    </tr>\n",
       "  </tbody>\n",
       "</table>\n",
       "</div>"
      ],
      "text/plain": [
       "   Number of Unique Items  Average Price  Number of Purchases  Total Revenue\n",
       "0                     179       3.050987                  780        2379.77"
      ]
     },
     "execution_count": 229,
     "metadata": {},
     "output_type": "execute_result"
    }
   ],
   "source": [
    "#find purchasing analysis (ALL) items and save to df\n",
    "purchasing_analysis = [{\"Number of Unique Items\":len(df[\"Item ID\"].unique()),\n",
    "                        \"Average Price\":df[\"Price\"].mean(),\n",
    "                       \"Number of Purchases\":df[\"Purchase ID\"].count(),\n",
    "                       \"Total Revenue\":df[\"Price\"].mean()*(float(df[\"Purchase ID\"].count()))}]\n",
    "\n",
    "purchasing_analysis_df = pd.DataFrame(purchasing_analysis)\n",
    "\n",
    "purchasing_analysis_df\n"
   ]
  },
  {
   "cell_type": "code",
   "execution_count": 251,
   "metadata": {},
   "outputs": [],
   "source": [
    "#find Gender Demographics and save to summary df\n",
    "\n",
    "#make a new df that holds only unique players\n",
    "unique = df.drop_duplicates(subset=['SN'])\n",
    "\n",
    "#number of players/gender saved in a list\n",
    "my_list1= unique[\"Gender\"].value_counts().tolist()\n",
    "\n",
    "# % of players of each gender saved in a list\n",
    "my_list2=unique[\"Gender\"].value_counts(normalize=True).tolist()\n",
    "\n",
    "#create a new summary df\n",
    "gender_demographics = pd.DataFrame(\n",
    "    {\"Total Count\": [my_list1[0],my_list1[1],my_list1[2]],\n",
    "     \"Percentage of Players\":[round(my_list2[0]*100,2),round(my_list2[1]*100,2),round(my_list2[2]*100,2)]},\n",
    "    [\"Male\", \"Female\", \"Other/Non-Disclosed\"])\n",
    "\n",
    "#print summary df\n",
    "gender_demographics"
   ]
  },
  {
   "cell_type": "code",
   "execution_count": 251,
   "metadata": {},
   "outputs": [],
   "source": [
    "# round(my_list[0]*100,2)\n",
    "# male = unique.loc[df[\"Gender\"] == \"Male\",:]\n",
    "# female = unique.loc[df[\"Gender\"] == \"Female\",:]\n",
    "# other = unique.loc[df[\"Gender\"] == \"Other / Non-Disclosed\",:]\n",
    "# unique[\"Gender\"].value_counts(normalize=True)\n",
    "#male.value_counts()\n",
    "#gender_demographics\n",
    "#male[\"Gender\"].value_counts(normalize=True)\n",
    "# gender_demographics = pd.DataFrame(\n",
    "#     {\"Total Count\": (len(male[\"SN\"].value_counts()), \n",
    "#                      (len(female[\"SN\"].value_counts()),\n",
    "#                      (len(other[\"SN\"].value_counts()),\n",
    "#      \"Percentage of Players\":[(len(male[\"SN\"].value_counts())/len(df[\"SN\"].unique()))*100, \n",
    "#                      (len(female[\"SN\"].value_counts())/len(df[\"SN\"].unique()))*100,\n",
    "#                      (len(other[\"SN\"].value_counts())/len(df[\"SN\"].unique()))*100]}\n",
    "#                     )\n",
    "\n",
    "# gender_demographics"
   ]
  },
  {
   "cell_type": "code",
   "execution_count": 312,
   "metadata": {},
   "outputs": [],
   "source": [
    "# find purchasing analytics (by gender) and save to df\n",
    "# gender_group = df.groupby(\"Gender\")\n",
    "# gender_group[\"Purchase ID\"].count()"
   ]
  },
  {
   "cell_type": "code",
   "execution_count": 340,
   "metadata": {},
   "outputs": [
    {
     "data": {
      "text/html": [
       "<div>\n",
       "<style scoped>\n",
       "    .dataframe tbody tr th:only-of-type {\n",
       "        vertical-align: middle;\n",
       "    }\n",
       "\n",
       "    .dataframe tbody tr th {\n",
       "        vertical-align: top;\n",
       "    }\n",
       "\n",
       "    .dataframe thead th {\n",
       "        text-align: right;\n",
       "    }\n",
       "</style>\n",
       "<table border=\"1\" class=\"dataframe\">\n",
       "  <thead>\n",
       "    <tr style=\"text-align: right;\">\n",
       "      <th></th>\n",
       "      <th>Purchase Count</th>\n",
       "      <th>Average Purchase Price</th>\n",
       "      <th>Total Purchase Value</th>\n",
       "      <th>Avg Total Purchase per Person</th>\n",
       "    </tr>\n",
       "    <tr>\n",
       "      <th>Gender</th>\n",
       "      <th></th>\n",
       "      <th></th>\n",
       "      <th></th>\n",
       "      <th></th>\n",
       "    </tr>\n",
       "  </thead>\n",
       "  <tbody>\n",
       "    <tr>\n",
       "      <th>Female</th>\n",
       "      <td>113</td>\n",
       "      <td>3.203009</td>\n",
       "      <td>361.94</td>\n",
       "      <td>4.468395</td>\n",
       "    </tr>\n",
       "    <tr>\n",
       "      <th>Male</th>\n",
       "      <td>652</td>\n",
       "      <td>3.017853</td>\n",
       "      <td>1967.64</td>\n",
       "      <td>4.065372</td>\n",
       "    </tr>\n",
       "    <tr>\n",
       "      <th>Other / Non-Disclosed</th>\n",
       "      <td>15</td>\n",
       "      <td>3.346000</td>\n",
       "      <td>50.19</td>\n",
       "      <td>4.562727</td>\n",
       "    </tr>\n",
       "  </tbody>\n",
       "</table>\n",
       "</div>"
      ],
      "text/plain": [
       "                       Purchase Count  Average Purchase Price  \\\n",
       "Gender                                                          \n",
       "Female                            113                3.203009   \n",
       "Male                              652                3.017853   \n",
       "Other / Non-Disclosed              15                3.346000   \n",
       "\n",
       "                       Total Purchase Value  Avg Total Purchase per Person  \n",
       "Gender                                                                      \n",
       "Female                               361.94                       4.468395  \n",
       "Male                                1967.64                       4.065372  \n",
       "Other / Non-Disclosed                 50.19                       4.562727  "
      ]
     },
     "execution_count": 340,
     "metadata": {},
     "output_type": "execute_result"
    }
   ],
   "source": [
    "gender_group = df.groupby(\"Gender\")\n",
    "p_count = gender_group[\"Purchase ID\"].count()\n",
    "avg_price = gender_group[\"Price\"].mean()\n",
    "total_price = gender_group[\"Price\"].sum()\n",
    "avg_total_purchase = total_price/gender_group.nunique()[\"SN\"]\n",
    "data ={\"Purchase Count\": p_count, \n",
    "        \"Average Purchase Price\": avg_price,\n",
    "      \"Total Purchase Value\": total_price,\n",
    "      \"Avg Total Purchase per Person\":avg_total_purchase} \n",
    "gender_analytics = pd.concat(data, \n",
    "               axis = 1)\n",
    "gender_analytics"
   ]
  },
  {
   "cell_type": "code",
   "execution_count": 312,
   "metadata": {},
   "outputs": [
    {
     "data": {
      "text/plain": [
       "Gender\n",
       "Female                   113\n",
       "Male                     652\n",
       "Other / Non-Disclosed     15\n",
       "Name: Purchase ID, dtype: int64"
      ]
     },
     "execution_count": 312,
     "metadata": {},
     "output_type": "execute_result"
    }
   ],
   "source": [
    "# count = gender_group[\"Purchase ID\"].count()\n",
    "# price = gender_group[\"Price\"].mean()\n",
    "# total = count*price\n",
    "# my_list = [count, price, total]\n",
    "# my_list\n",
    "# # total_purchase_value = purchase_price * Total_purchase_value\n",
    "# avg_total = total_purchase\n",
    "# gender_purchasing_analysis = [{\"Purchase Count\":gender_df[\"Purchase ID\"].count(),\n",
    "#                         \"Average Purchase Price\":gender_df[\"Price\"].mean(),\n",
    "#                        \"Total Purchase Value\":gender_df[\"Price\"].sum()}]\n",
    "# gender_df2 = pd.DataFrame(gender_purchasing_analysis)\n",
    "# # gender_df2\n",
    "# gender_analytics = pd.DataFrame(\n",
    "#     {\"Purchase Count\":[purchase_count[0],purchase_count[1],purchase_count[2]]\n",
    "#      #\"Average Purchase Price\":[gender_group[\"Price\"].mean()]\n",
    "# # #      \"Total Purchase Value\": [\"Thinis\", \"Memphis\"],\n",
    "# # #      \"Avg Total Purchase per Person\": [\"Thinis\", \"Memphis\"]\n",
    "#      }\n",
    "# )\n",
    "# gender_analytics"
   ]
  },
  {
   "cell_type": "code",
   "execution_count": 25,
   "metadata": {},
   "outputs": [],
   "source": [
    "#find age demographics and save to df"
   ]
  },
  {
   "cell_type": "code",
   "execution_count": 26,
   "metadata": {},
   "outputs": [],
   "source": [
    "#find top spenders and save to df"
   ]
  },
  {
   "cell_type": "code",
   "execution_count": 27,
   "metadata": {},
   "outputs": [],
   "source": [
    "#find most popular items and save to df"
   ]
  },
  {
   "cell_type": "code",
   "execution_count": 28,
   "metadata": {},
   "outputs": [],
   "source": [
    "#find most profitable items and save to df"
   ]
  },
  {
   "cell_type": "code",
   "execution_count": null,
   "metadata": {},
   "outputs": [],
   "source": [
    "#include a markdown cell with three observations"
   ]
  }
 ],
 "metadata": {
  "kernelspec": {
   "display_name": "Python 3",
   "language": "python",
   "name": "python3"
  },
  "language_info": {
   "codemirror_mode": {
    "name": "ipython",
    "version": 3
   },
   "file_extension": ".py",
   "mimetype": "text/x-python",
   "name": "python",
   "nbconvert_exporter": "python",
   "pygments_lexer": "ipython3",
   "version": "3.8.5"
  }
 },
 "nbformat": 4,
 "nbformat_minor": 4
}
